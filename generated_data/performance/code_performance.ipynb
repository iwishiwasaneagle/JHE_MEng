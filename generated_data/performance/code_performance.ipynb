{
 "cells": [
  {
   "cell_type": "code",
   "execution_count": null,
   "metadata": {},
   "outputs": [],
   "source": [
    "import sys\n",
    "import os\n",
    "os.environ['OPP4SAR_DIR'] = '/home/jhewers/Documents/meng_project/code/'\n",
    "sys.path.insert(0,os.getenv('OPP4SAR_DIR'))\n",
    "DIR = os.path.join(os.getenv('OPP4SAR_DIR'),'generated_data/performance')"
   ]
  },
  {
   "cell_type": "code",
   "execution_count": null,
   "metadata": {},
   "outputs": [],
   "source": [
    "import matplotlib.pyplot as plt\n",
    "plt.style.use('ggplot')\n",
    "plt.rcParams.update({\n",
    "    'axes.grid':False,\n",
    "    'figure.dpi':100,\n",
    "    'image.cmap':'gray',\n",
    "    'legend.loc':'upper left',\n",
    "    'legend.fancybox':True,\n",
    "    'savefig.bbox':'tight'\n",
    "    })"
   ]
  },
  {
   "cell_type": "code",
   "execution_count": null,
   "metadata": {},
   "outputs": [],
   "source": [
    "import json\n",
    "import numpy as np\n",
    "\n",
    "from src.json_helpers import GlobalJsonDecoder\n",
    "from src.enums import WaypointAlgorithmEnum"
   ]
  },
  {
   "cell_type": "code",
   "execution_count": null,
   "metadata": {},
   "outputs": [],
   "source": [
    "N = 100\n",
    "x,y = np.meshgrid(np.arange(0,N),np.arange(0,N))\n",
    "x,y = x.flatten(),y.flatten()\n",
    "xy = np.vstack((x,y)).T\n",
    "\n",
    "z = np.ones(x.shape)\n",
    "z = (z*100*np.random.random(x.shape)).astype(int)\n",
    "\n",
    "pts = []\n",
    "\n",
    "for f,g in zip(xy,z):\n",
    "    [pts.append(f) for i in range(g)]\n",
    "    \n",
    "pts = np.array(pts)\n",
    "print(f\"{N**2}/{len(pts)} < 1 -> {N**2/len(pts)<1}\")\n",
    "np.testing.assert_equal(len(pts),np.sum(z))"
   ]
  },
  {
   "cell_type": "code",
   "execution_count": null,
   "metadata": {},
   "outputs": [],
   "source": [
    "def non_duped(pts,N,R):\n",
    "    pos = np.array([N//2,N//2])\n",
    "    \n",
    "    t = 0\n",
    "\n",
    "    found = np.linalg.norm(pos-pts,axis=1)<R\n",
    "    found_objs = []\n",
    "\n",
    "    for f in pts[found]:\n",
    "        found_objs.append((f,t))\n",
    "    return found_objs\n",
    "\n",
    "def duped(pts,N,R):\n",
    "    pos = np.array([N//2,N//2])\n",
    "    t = 0\n",
    "    \n",
    "    x,y = np.meshgrid(np.arange(0,N),np.arange(0,N))\n",
    "    x,y = x.flatten(),y.flatten()\n",
    "    xy = np.vstack((x,y)).T\n",
    "    \n",
    "    found = np.linalg.norm(pos-xy,axis=1)<R\n",
    "    found_objs = []\n",
    "    \n",
    "    for f in xy[found]:\n",
    "        found_objs.append((f,t))\n",
    "    \n",
    "    return found_objs"
   ]
  },
  {
   "cell_type": "code",
   "execution_count": null,
   "metadata": {},
   "outputs": [],
   "source": [
    "%alias_magic t timeit -p \"-n10 -o -q\"\n",
    "\n",
    "N = 500\n",
    "x,y = np.meshgrid(np.arange(0,N),np.arange(0,N))\n",
    "x,y = x.flatten(),y.flatten()\n",
    "xy = np.vstack((x,y)).T\n",
    "\n",
    "t1 = []\n",
    "t2 = []\n",
    "ratio = []\n",
    "i_store = np.arange(0.6,14,0.1)\n",
    "\n",
    "for i in i_store:\n",
    "    print(f\"{100*(i-np.min(i_store))/np.max(i_store):.2f}%\")\n",
    "    z = np.ones(x.shape)\n",
    "    z = np.round(z*i*np.random.random(x.shape),0).astype(int)\n",
    "\n",
    "    pts = []\n",
    "\n",
    "    for f,g in zip(xy,z):\n",
    "        [pts.append(f) for i in range(g)]\n",
    "\n",
    "    pts = np.array(pts)\n",
    "    np.testing.assert_equal(len(pts),np.sum(z))\n",
    "    \n",
    "    a = %t non_duped(pts,N,100)\n",
    "    b = %t duped(pts,N,100) \n",
    "    \n",
    "    t1.append(a.average)\n",
    "    t2.append(b.average)\n",
    "    ratio.append(N**2/np.sum(z))\n",
    "    \n",
    "print(\"Done\")"
   ]
  },
  {
   "cell_type": "code",
   "execution_count": null,
   "metadata": {
    "scrolled": false
   },
   "outputs": [],
   "source": [
    "fig,ax1=plt.subplots()\n",
    "a = ax1.plot(ratio,t1,label=\"Non-duped\")\n",
    "b = ax1.plot(ratio,t2,label=\"Duped\")\n",
    "\n",
    "mnx,mxx = ax1.get_xlim()\n",
    "ax1.set_xlim((mxx,mnx))\n",
    "ax1.plot([1,1],ax1.get_ylim(),'-.')\n",
    "ax1.text(1,np.mean(ax1,get_ylim()),\"$A/N_\\text_{person} = 1$\")\n",
    "\n",
    "ax1.set_xlabel(r\"$A/N_\\text_{person}$\")\n",
    "ax1.set_ylabel(r\"time ($s$)\")\n",
    "\n",
    "lns = a+b\n",
    "plt.legend(lns,[l.get_label() for l in lns])\n",
    "\n",
    "\n",
    "plt.show()"
   ]
  }
 ],
 "metadata": {
  "kernelspec": {
   "display_name": "meng_project",
   "language": "python",
   "name": "meng_project"
  }
 },
 "nbformat": 4,
 "nbformat_minor": 4
}
