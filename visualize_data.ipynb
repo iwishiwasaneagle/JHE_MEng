{
 "cells": [
  {
   "cell_type": "code",
   "execution_count": 8,
   "metadata": {},
   "outputs": [],
   "source": [
    "import matplotlib.pyplot as plt\n",
    "import json\n",
    "import numpy as np\n",
    "import os\n",
    "\n",
    "from src.data_models.positional.waypoint import Waypoint, Waypoints\n",
    "from src.data_models.probability_map import ProbabilityMap\n",
    "from src.waypoint_generation import WaypointFactory, WaypointAlgorithmEnum"
   ]
  },
  {
   "cell_type": "code",
   "execution_count": 7,
   "metadata": {},
   "outputs": [
    {
     "name": "stdout",
     "output_type": "stream",
     "text": [
      "Starting matlab engine...\n",
      "Matlab engine started as <src.matlab_helper.MatlabHelper object at 0x7fb16f10daf0>\n"
     ]
    }
   ],
   "source": [
    "from src.waypoint_generation import CostFunc\n",
    "cost_func = CostFunc()\n",
    "\n",
    "with open(os.path.join(os.getcwd(), 'src','waypoint_generation','global.settings'),'r') as f:\n",
    "    wp_gen_settings = json.load(f)"
   ]
  },
  {
   "cell_type": "code",
   "execution_count": null,
   "metadata": {},
   "outputs": [],
   "source": [
    "with open(\"algorithms_output.json\", 'r') as f:\n",
    "    data = json.loads(json.load(f))\n",
    "    \n",
    "img = np.array(data['img'])\n",
    "del data['img']\n",
    "\n",
    "for key in WaypointAlgorithmEnum:\n",
    "    key = str(key)\n",
    "    try:\n",
    "        dat = data[key]\n",
    "        wps = Waypoints(dat['wps'])        \n",
    "        dat['wps'] = wps\n",
    "        data[key].update(dat)\n",
    "        print(f\"{key} does exist ({len(wps)} wps)\")\n",
    "    except KeyError:\n",
    "        print(f\"{key} doesn't exist\")\n",
    "\n",
    "data"
   ]
  },
  {
   "cell_type": "code",
   "execution_count": null,
   "metadata": {},
   "outputs": [],
   "source": [
    "def plot(alg):\n",
    "    fig, ax = plt.subplots()\n",
    "    \n",
    "    ax.imshow(img, interpolation=None,origin='bottom', extent=[0, img.shape[0], 0, img.shape[1]], cmap='gray')\n",
    "    wps = data[str(alg)]['wps'].toNumpyArray()\n",
    "    \n",
    "    dist = np.sum(np.linalg.norm(wps[1:] - wps[:-1],axis=1))\n",
    "    \n",
    "    \n",
    "    \n",
    "    ax.plot(wps[:,0],wps[:,1],'r',linewidth=3)\n",
    "        \n",
    "    ax.set_xlim(-1,img.shape[0]+1)\n",
    "    ax.set_ylim(-1,img.shape[1]+1)\n",
    "    ax.set_xlabel(\"x (unit)\")\n",
    "    ax.set_ylabel(\"y (unit)\")\n",
    "    \n",
    "    s = str(alg).split('.')[1]\n",
    "    fig.savefig(s+\"_path.png\")\n",
    "    ax.set_title(s)\n",
    "    \n",
    "    return fig,ax,dist\n",
    "    \n",
    "    \n",
    "for key in data.keys():\n",
    "    fig,ax,dist = plot(key)\n",
    "    print(f\"{key}\\n{dist:.4f} units long\\n{data[key]['time']:.4f}s\")\n",
    "    plt.tight_layout()\n",
    "    plt.show()\n",
    "    data[key]['dist'] = dist"
   ]
  },
  {
   "cell_type": "code",
   "execution_count": null,
   "metadata": {},
   "outputs": [],
   "source": [
    "def plot_bar(x,y,x_label,y_label):\n",
    "\n",
    "    fig,ax = plt.subplots()\n",
    "    plt.xticks(rotation=45)\n",
    "    ax.set_ylabel(y_label)\n",
    "    ax.set_xlabel(x_label)\n",
    "    ax.grid(True, linestyle='--', which='major',\n",
    "                       color='grey', alpha=.25)\n",
    "    ax.bar(x,y)   \n",
    "\n",
    "    return fig,ax"
   ]
  },
  {
   "cell_type": "code",
   "execution_count": null,
   "metadata": {},
   "outputs": [],
   "source": [
    "dists = [item[1]['dist'] for item in data.items()]\n",
    "times = [item[1]['time'] for item in data.items()]\n",
    "\n",
    "x = [str(s).split('.')[1] for s in data.keys()]\n",
    "\n",
    "fig,ax=plot_bar(x,dists,\"\",\"Distance (unit)\")\n",
    "plt.tight_layout()\n",
    "fig.savefig(\"unit_distances_all.png\")\n",
    "\n",
    "fig,ax=plot_bar(x,times,\"\",\"Time to calculate (s)\")\n",
    "plt.tight_layout()\n",
    "fig.savefig(\"time_to_calculate_all.png\")"
   ]
  },
  {
   "cell_type": "code",
   "execution_count": null,
   "metadata": {},
   "outputs": [],
   "source": [
    "# Cost over distance\n",
    "\n",
    "for key in data.keys():\n",
    "    wps = data[key]['wps'].toNumpyArray()\n",
    "    cost_over_wps = []\n",
    "    dist_with_wps = np.cumsum([0]+[np.linalg.norm(g-f) for g,f in zip(wps[:-1],wps[1:])])\n",
    "    for i in range(len(wps)):\n",
    "        tmp_wps = Waypoints(wps[:i+1])\n",
    "        cost = cost_func.calculate(tmp_wps,ProbabilityMap(img),onlyAccumulateProbability=True)\n",
    "        cost_over_wps.append(cost)\n",
    "    \n",
    "    print(key)\n",
    "    plt.plot(dist_with_wps,cost_over_wps, label=key.split('.')[1].lower())\n",
    "plt.ylim([0, -1])\n",
    "plt.legend()\n",
    "\n",
    "plt.plot((wp_gen_settings['unit_endurance'],)*2,[-1, 1],'m:')\n",
    "plt.show()"
   ]
  },
  {
   "cell_type": "code",
   "execution_count": 28,
   "metadata": {},
   "outputs": [
    {
     "name": "stdout",
     "output_type": "stream",
     "text": [
      "Hi\n"
     ]
    }
   ],
   "source": [
    "class Jo:\n",
    "    pass\n",
    "\n",
    "def Jan(inp):\n",
    "    print(inp)\n",
    "\n",
    "dir(Jo)\n",
    "\n",
    "jo = Jo()\n",
    "\n",
    "jo.__dict__.update({'Jan':3Jan})\n",
    "\n",
    "jo.Jan(\"Hi\")"
   ]
  },
  {
   "cell_type": "code",
   "execution_count": null,
   "metadata": {},
   "outputs": [],
   "source": [
    "\n"
   ]
  },
  {
   "cell_type": "code",
   "execution_count": null,
   "metadata": {},
   "outputs": [],
   "source": []
  }
 ],
 "metadata": {
  "kernelspec": {
   "display_name": "Python 3",
   "language": "python",
   "name": "python3"
  },
  "language_info": {
   "codemirror_mode": {
    "name": "ipython",
    "version": 3
   },
   "file_extension": ".py",
   "mimetype": "text/x-python",
   "name": "python",
   "nbconvert_exporter": "python",
   "pygments_lexer": "ipython3",
   "version": "3.8.5"
  }
 },
 "nbformat": 4,
 "nbformat_minor": 4
}
